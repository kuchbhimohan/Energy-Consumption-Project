{
 "cells": [
  {
   "cell_type": "code",
   "execution_count": 13,
   "id": "9275c974-4b2a-40c4-a1e8-0157b3a9cbe8",
   "metadata": {},
   "outputs": [],
   "source": [
    "import pandas as pd\n",
    "import numpy as np"
   ]
  },
  {
   "cell_type": "code",
   "execution_count": 2,
   "id": "ab5929a4-2523-4dbc-bff8-c8ea2f1d7e22",
   "metadata": {},
   "outputs": [
    {
     "data": {
      "text/html": [
       "<div>\n",
       "<style scoped>\n",
       "    .dataframe tbody tr th:only-of-type {\n",
       "        vertical-align: middle;\n",
       "    }\n",
       "\n",
       "    .dataframe tbody tr th {\n",
       "        vertical-align: top;\n",
       "    }\n",
       "\n",
       "    .dataframe thead th {\n",
       "        text-align: right;\n",
       "    }\n",
       "</style>\n",
       "<table border=\"1\" class=\"dataframe\">\n",
       "  <thead>\n",
       "    <tr style=\"text-align: right;\">\n",
       "      <th></th>\n",
       "      <th>Building_ID</th>\n",
       "      <th>Building_Type</th>\n",
       "      <th>Square_Footage</th>\n",
       "      <th>Age_of_Building</th>\n",
       "      <th>Occupancy_Count</th>\n",
       "      <th>Date</th>\n",
       "      <th>Day_of_Week</th>\n",
       "      <th>Month</th>\n",
       "      <th>Time_of_Day</th>\n",
       "      <th>Outdoor_Temperature</th>\n",
       "      <th>HVAC_Usage</th>\n",
       "      <th>Appliance_Usage</th>\n",
       "      <th>Holiday_Flag</th>\n",
       "      <th>Renewable_Energy_%</th>\n",
       "      <th>Weather_Condition</th>\n",
       "      <th>Energy_Consumption_kWh</th>\n",
       "      <th>Anomaly_Flag</th>\n",
       "      <th>Peak_Usage_Flag</th>\n",
       "      <th>Temp_vs_Consumption_Ratio</th>\n",
       "      <th>Building_Size_Category</th>\n",
       "    </tr>\n",
       "  </thead>\n",
       "  <tbody>\n",
       "    <tr>\n",
       "      <th>0</th>\n",
       "      <td>125</td>\n",
       "      <td>Residential</td>\n",
       "      <td>2882.727120</td>\n",
       "      <td>1</td>\n",
       "      <td>4.0</td>\n",
       "      <td>2023-08-22</td>\n",
       "      <td>Tuesday</td>\n",
       "      <td>August</td>\n",
       "      <td>Evening</td>\n",
       "      <td>79.102869</td>\n",
       "      <td>High</td>\n",
       "      <td>1</td>\n",
       "      <td>0</td>\n",
       "      <td>18.0</td>\n",
       "      <td>Sunny</td>\n",
       "      <td>250.69</td>\n",
       "      <td>0</td>\n",
       "      <td>1</td>\n",
       "      <td>3.169164</td>\n",
       "      <td>Medium</td>\n",
       "    </tr>\n",
       "    <tr>\n",
       "      <th>1</th>\n",
       "      <td>36</td>\n",
       "      <td>Residential</td>\n",
       "      <td>2397.797732</td>\n",
       "      <td>9</td>\n",
       "      <td>3.0</td>\n",
       "      <td>2023-05-22</td>\n",
       "      <td>Monday</td>\n",
       "      <td>May</td>\n",
       "      <td>Evening</td>\n",
       "      <td>NaN</td>\n",
       "      <td>Low</td>\n",
       "      <td>1</td>\n",
       "      <td>0</td>\n",
       "      <td>10.0</td>\n",
       "      <td>Cloudy</td>\n",
       "      <td>89.96</td>\n",
       "      <td>0</td>\n",
       "      <td>0</td>\n",
       "      <td>NaN</td>\n",
       "      <td>Medium</td>\n",
       "    </tr>\n",
       "    <tr>\n",
       "      <th>2</th>\n",
       "      <td>2</td>\n",
       "      <td>Residential</td>\n",
       "      <td>1930.867849</td>\n",
       "      <td>21</td>\n",
       "      <td>5.0</td>\n",
       "      <td>2023-05-25</td>\n",
       "      <td>Thursday</td>\n",
       "      <td>May</td>\n",
       "      <td>Evening</td>\n",
       "      <td>59.906903</td>\n",
       "      <td>Low</td>\n",
       "      <td>1</td>\n",
       "      <td>0</td>\n",
       "      <td>9.0</td>\n",
       "      <td>Cloudy</td>\n",
       "      <td>87.20</td>\n",
       "      <td>0</td>\n",
       "      <td>0</td>\n",
       "      <td>1.455592</td>\n",
       "      <td>Medium</td>\n",
       "    </tr>\n",
       "    <tr>\n",
       "      <th>3</th>\n",
       "      <td>229</td>\n",
       "      <td>Commercial</td>\n",
       "      <td>6696.244285</td>\n",
       "      <td>3</td>\n",
       "      <td>35.0</td>\n",
       "      <td>2023-10-03</td>\n",
       "      <td>Tuesday</td>\n",
       "      <td>October</td>\n",
       "      <td>Day</td>\n",
       "      <td>74.880985</td>\n",
       "      <td>Medium</td>\n",
       "      <td>1</td>\n",
       "      <td>0</td>\n",
       "      <td>0.0</td>\n",
       "      <td>Sunny</td>\n",
       "      <td>377.27</td>\n",
       "      <td>0</td>\n",
       "      <td>0</td>\n",
       "      <td>5.038262</td>\n",
       "      <td>Large</td>\n",
       "    </tr>\n",
       "    <tr>\n",
       "      <th>4</th>\n",
       "      <td>97</td>\n",
       "      <td>Commercial</td>\n",
       "      <td>11818.388089</td>\n",
       "      <td>35</td>\n",
       "      <td>16.0</td>\n",
       "      <td>2023-12-24</td>\n",
       "      <td>Sunday</td>\n",
       "      <td>December</td>\n",
       "      <td>Day</td>\n",
       "      <td>35.136324</td>\n",
       "      <td>High</td>\n",
       "      <td>1</td>\n",
       "      <td>0</td>\n",
       "      <td>0.0</td>\n",
       "      <td>Cloudy</td>\n",
       "      <td>397.68</td>\n",
       "      <td>0</td>\n",
       "      <td>0</td>\n",
       "      <td>11.318202</td>\n",
       "      <td>Very Large</td>\n",
       "    </tr>\n",
       "  </tbody>\n",
       "</table>\n",
       "</div>"
      ],
      "text/plain": [
       "   Building_ID Building_Type  Square_Footage  Age_of_Building  \\\n",
       "0          125   Residential     2882.727120                1   \n",
       "1           36   Residential     2397.797732                9   \n",
       "2            2   Residential     1930.867849               21   \n",
       "3          229    Commercial     6696.244285                3   \n",
       "4           97    Commercial    11818.388089               35   \n",
       "\n",
       "   Occupancy_Count        Date Day_of_Week     Month Time_of_Day  \\\n",
       "0              4.0  2023-08-22     Tuesday    August     Evening   \n",
       "1              3.0  2023-05-22      Monday       May     Evening   \n",
       "2              5.0  2023-05-25    Thursday       May     Evening   \n",
       "3             35.0  2023-10-03     Tuesday   October         Day   \n",
       "4             16.0  2023-12-24      Sunday  December         Day   \n",
       "\n",
       "   Outdoor_Temperature HVAC_Usage  Appliance_Usage  Holiday_Flag  \\\n",
       "0            79.102869       High                1             0   \n",
       "1                  NaN        Low                1             0   \n",
       "2            59.906903        Low                1             0   \n",
       "3            74.880985     Medium                1             0   \n",
       "4            35.136324       High                1             0   \n",
       "\n",
       "   Renewable_Energy_% Weather_Condition  Energy_Consumption_kWh  Anomaly_Flag  \\\n",
       "0                18.0             Sunny                  250.69             0   \n",
       "1                10.0            Cloudy                   89.96             0   \n",
       "2                 9.0            Cloudy                   87.20             0   \n",
       "3                 0.0             Sunny                  377.27             0   \n",
       "4                 0.0            Cloudy                  397.68             0   \n",
       "\n",
       "   Peak_Usage_Flag  Temp_vs_Consumption_Ratio Building_Size_Category  \n",
       "0                1                   3.169164                 Medium  \n",
       "1                0                        NaN                 Medium  \n",
       "2                0                   1.455592                 Medium  \n",
       "3                0                   5.038262                  Large  \n",
       "4                0                  11.318202             Very Large  "
      ]
     },
     "execution_count": 2,
     "metadata": {},
     "output_type": "execute_result"
    }
   ],
   "source": [
    "df = pd.read_csv('../data/raw/energy_consumption_dataset.csv')\n",
    "df.head()"
   ]
  },
  {
   "cell_type": "code",
   "execution_count": 3,
   "id": "b3d090ed-1244-4299-a16d-4db7b432f6d1",
   "metadata": {},
   "outputs": [
    {
     "name": "stdout",
     "output_type": "stream",
     "text": [
      "Dataset dimensions (rows, columns): (50000, 20)\n"
     ]
    }
   ],
   "source": [
    "print(\"Dataset dimensions (rows, columns):\", df.shape)"
   ]
  },
  {
   "cell_type": "code",
   "execution_count": 5,
   "id": "ce3ae68f-f673-4e73-ab86-0ff0d33206e7",
   "metadata": {},
   "outputs": [
    {
     "name": "stdout",
     "output_type": "stream",
     "text": [
      "Data Types:\n",
      "Building_ID                    int64\n",
      "Building_Type                 object\n",
      "Square_Footage               float64\n",
      "Age_of_Building                int64\n",
      "Occupancy_Count              float64\n",
      "Date                          object\n",
      "Day_of_Week                   object\n",
      "Month                         object\n",
      "Time_of_Day                   object\n",
      "Outdoor_Temperature          float64\n",
      "HVAC_Usage                    object\n",
      "Appliance_Usage                int64\n",
      "Holiday_Flag                   int64\n",
      "Renewable_Energy_%           float64\n",
      "Weather_Condition             object\n",
      "Energy_Consumption_kWh       float64\n",
      "Anomaly_Flag                   int64\n",
      "Peak_Usage_Flag                int64\n",
      "Temp_vs_Consumption_Ratio    float64\n",
      "Building_Size_Category        object\n",
      "dtype: object\n"
     ]
    }
   ],
   "source": [
    "# Check data types\n",
    "print(\"Data Types:\")\n",
    "print(df.dtypes)"
   ]
  },
  {
   "cell_type": "code",
   "execution_count": 6,
   "id": "8122625e-8161-415b-90a7-22578304dbea",
   "metadata": {},
   "outputs": [
    {
     "name": "stdout",
     "output_type": "stream",
     "text": [
      "Missing Values Count:\n",
      "Building_ID                     0\n",
      "Building_Type                   0\n",
      "Square_Footage                  0\n",
      "Age_of_Building                 0\n",
      "Occupancy_Count              1000\n",
      "Date                            0\n",
      "Day_of_Week                     0\n",
      "Month                           0\n",
      "Time_of_Day                     0\n",
      "Outdoor_Temperature           446\n",
      "HVAC_Usage                      0\n",
      "Appliance_Usage                 0\n",
      "Holiday_Flag                    0\n",
      "Renewable_Energy_%             73\n",
      "Weather_Condition               0\n",
      "Energy_Consumption_kWh          0\n",
      "Anomaly_Flag                    0\n",
      "Peak_Usage_Flag                 0\n",
      "Temp_vs_Consumption_Ratio     446\n",
      "Building_Size_Category          0\n",
      "dtype: int64\n"
     ]
    }
   ],
   "source": [
    "print(\"\\\n",
    "Missing Values Count:\")\n",
    "print(df.isnull().sum())"
   ]
  },
  {
   "cell_type": "code",
   "execution_count": 7,
   "id": "5773e79c-8fcc-40c3-b0be-7ccbdc43a8e4",
   "metadata": {},
   "outputs": [
    {
     "name": "stdout",
     "output_type": "stream",
     "text": [
      "Number of duplicate rows: 0\n"
     ]
    }
   ],
   "source": [
    "# Check for duplicates\n",
    "duplicates = df.duplicated().sum()\n",
    "print(\"\\\n",
    "Number of duplicate rows:\", duplicates)"
   ]
  },
  {
   "cell_type": "code",
   "execution_count": 8,
   "id": "9e0e7b7e-2506-42f7-a7d9-7addf6e842ff",
   "metadata": {},
   "outputs": [
    {
     "name": "stdout",
     "output_type": "stream",
     "text": [
      "Basic Statistics for Numerical Columns:\n",
      "        Building_ID  Square_Footage  Age_of_Building  Occupancy_Count  \\\n",
      "count  50000.000000    50000.000000     50000.000000     49000.000000   \n",
      "mean     150.693240     4371.781833        25.501140        17.347490   \n",
      "std       86.585811     4199.904344        13.962965        33.382991   \n",
      "min        1.000000      672.411976         1.000000         0.000000   \n",
      "25%       75.000000     1880.202746        14.000000         2.000000   \n",
      "50%      151.000000     2301.720613        27.000000         4.000000   \n",
      "75%      226.000000     6071.052130        37.000000         7.000000   \n",
      "max      300.000000    18203.266477        49.000000       198.000000   \n",
      "\n",
      "       Outdoor_Temperature  Appliance_Usage  Holiday_Flag  Renewable_Energy_%  \\\n",
      "count         49554.000000     50000.000000  50000.000000        49927.000000   \n",
      "mean             57.383271         0.671060      0.030220            4.823462   \n",
      "std              19.296847         0.469833      0.171194            8.498942   \n",
      "min              12.234387         0.000000      0.000000            0.000000   \n",
      "25%              40.213776         0.000000      0.000000            0.000000   \n",
      "50%              57.242070         1.000000      0.000000            0.000000   \n",
      "75%              74.686788         1.000000      0.000000            8.000000   \n",
      "max             102.456885         1.000000      1.000000           30.000000   \n",
      "\n",
      "       Energy_Consumption_kWh  Anomaly_Flag  Peak_Usage_Flag  \\\n",
      "count            50000.000000   50000.00000     50000.000000   \n",
      "mean               213.875499       0.02924         0.179420   \n",
      "std                243.791176       0.16848         0.383707   \n",
      "min                  3.163192       0.00000         0.000000   \n",
      "25%                 77.037500       0.00000         0.000000   \n",
      "50%                133.525000       0.00000         0.000000   \n",
      "75%                248.895000       0.00000         0.000000   \n",
      "max               4697.763743       1.00000         1.000000   \n",
      "\n",
      "       Temp_vs_Consumption_Ratio  \n",
      "count               49554.000000  \n",
      "mean                    4.341707  \n",
      "std                     5.866090  \n",
      "min                     0.047222  \n",
      "25%                     1.338017  \n",
      "50%                     2.409948  \n",
      "75%                     5.010268  \n",
      "max                   108.414436  \n"
     ]
    }
   ],
   "source": [
    "\n",
    "# Basic statistics for numerical columns\n",
    "print(\"\\\n",
    "Basic Statistics for Numerical Columns:\")\n",
    "print(df.describe())"
   ]
  },
  {
   "cell_type": "code",
   "execution_count": 9,
   "id": "a07135f7-e878-4ecd-9ab2-416266a45173",
   "metadata": {},
   "outputs": [
    {
     "name": "stdout",
     "output_type": "stream",
     "text": [
      "                             count         mean          std         min  \\\n",
      "Building_ID                50000.0   150.693240    86.585811    1.000000   \n",
      "Square_Footage             50000.0  4371.781833  4199.904344  672.411976   \n",
      "Age_of_Building            50000.0    25.501140    13.962965    1.000000   \n",
      "Occupancy_Count            49000.0    17.347490    33.382991    0.000000   \n",
      "Outdoor_Temperature        49554.0    57.383271    19.296847   12.234387   \n",
      "Appliance_Usage            50000.0     0.671060     0.469833    0.000000   \n",
      "Holiday_Flag               50000.0     0.030220     0.171194    0.000000   \n",
      "Renewable_Energy_%         49927.0     4.823462     8.498942    0.000000   \n",
      "Energy_Consumption_kWh     50000.0   213.875499   243.791176    3.163192   \n",
      "Anomaly_Flag               50000.0     0.029240     0.168480    0.000000   \n",
      "Peak_Usage_Flag            50000.0     0.179420     0.383707    0.000000   \n",
      "Temp_vs_Consumption_Ratio  49554.0     4.341707     5.866090    0.047222   \n",
      "\n",
      "                                   25%          50%          75%           max  \n",
      "Building_ID                  75.000000   151.000000   226.000000    300.000000  \n",
      "Square_Footage             1880.202746  2301.720613  6071.052130  18203.266477  \n",
      "Age_of_Building              14.000000    27.000000    37.000000     49.000000  \n",
      "Occupancy_Count               2.000000     4.000000     7.000000    198.000000  \n",
      "Outdoor_Temperature          40.213776    57.242070    74.686788    102.456885  \n",
      "Appliance_Usage               0.000000     1.000000     1.000000      1.000000  \n",
      "Holiday_Flag                  0.000000     0.000000     0.000000      1.000000  \n",
      "Renewable_Energy_%            0.000000     0.000000     8.000000     30.000000  \n",
      "Energy_Consumption_kWh       77.037500   133.525000   248.895000   4697.763743  \n",
      "Anomaly_Flag                  0.000000     0.000000     0.000000      1.000000  \n",
      "Peak_Usage_Flag               0.000000     0.000000     0.000000      1.000000  \n",
      "Temp_vs_Consumption_Ratio     1.338017     2.409948     5.010268    108.414436  \n"
     ]
    }
   ],
   "source": [
    "# Get the full statistics for numerical columns\n",
    "print(df.describe().transpose())"
   ]
  },
  {
   "cell_type": "code",
   "execution_count": 10,
   "id": "a610fa99-2cce-4c12-b346-2891d7cefabc",
   "metadata": {},
   "outputs": [
    {
     "name": "stdout",
     "output_type": "stream",
     "text": [
      "Unique values in categorical columns:\n",
      "Building_Type: 2 unique values\n",
      "Sample values: ['Residential' 'Commercial']\n",
      "Date: 365 unique values\n",
      "Sample values: ['2023-08-22' '2023-05-22' '2023-05-25' '2023-10-03' '2023-12-24']\n",
      "Day_of_Week: 7 unique values\n",
      "Sample values: ['Tuesday' 'Monday' 'Thursday' 'Sunday' 'Wednesday']\n",
      "Month: 12 unique values\n",
      "Sample values: ['August' 'May' 'October' 'December' 'September']\n",
      "Time_of_Day: 4 unique values\n",
      "Sample values: ['Evening' 'Day' 'Night' 'Morning']\n",
      "HVAC_Usage: 3 unique values\n",
      "Sample values: ['High' 'Low' 'Medium']\n",
      "Weather_Condition: 4 unique values\n",
      "Sample values: ['Sunny' 'Cloudy' 'Rainy' 'Snowy']\n",
      "Building_Size_Category: 4 unique values\n",
      "Sample values: ['Medium' 'Large' 'Very Large' 'Small']\n"
     ]
    }
   ],
   "source": [
    "# Check unique values for categorical columns\n",
    "print(\"\\\n",
    "Unique values in categorical columns:\")\n",
    "categorical_cols = df.select_dtypes(include=['object']).columns\n",
    "for col in categorical_cols:\n",
    "    print(f\"{col}: {df[col].nunique()} unique values\")\n",
    "    print(f\"Sample values: {df[col].unique()[:5]}\")"
   ]
  },
  {
   "cell_type": "code",
   "execution_count": 11,
   "id": "0afd6f8f-3f9a-48ab-a7c2-3010d4633230",
   "metadata": {},
   "outputs": [
    {
     "name": "stdout",
     "output_type": "stream",
     "text": [
      "Date range:\n",
      "Start date: 2023-01-01 00:00:00\n",
      "End date: 2023-12-31 00:00:00\n"
     ]
    }
   ],
   "source": [
    "# Check date range\n",
    "df['Date'] = pd.to_datetime(df['Date'])\n",
    "print(\"\\\n",
    "Date range:\")\n",
    "print(f\"Start date: {df['Date'].min()}\")\n",
    "print(f\"End date: {df['Date'].max()}\")"
   ]
  },
  {
   "cell_type": "code",
   "execution_count": 12,
   "id": "79601f28-23c6-4705-af80-28fb169a0851",
   "metadata": {},
   "outputs": [
    {
     "name": "stdout",
     "output_type": "stream",
     "text": [
      "Range of values for key metrics:\n",
      "Energy Consumption (kWh): 3.1631919409374305 to 4697.763743087185\n",
      "Square Footage: 672.411976218265 to 18203.266477185225\n",
      "Age of Building: 1 to 49\n",
      "Renewable Energy %: 0.0 to 30.0\n"
     ]
    }
   ],
   "source": [
    "# Check for any potential issues in the data\n",
    "print(\"\\\n",
    "Range of values for key metrics:\")\n",
    "print(f\"Energy Consumption (kWh): {df['Energy_Consumption_kWh'].min()} to {df['Energy_Consumption_kWh'].max()}\")\n",
    "print(f\"Square Footage: {df['Square_Footage'].min()} to {df['Square_Footage'].max()}\")\n",
    "print(f\"Age of Building: {df['Age_of_Building'].min()} to {df['Age_of_Building'].max()}\")\n",
    "print(f\"Renewable Energy %: {df['Renewable_Energy_%'].min()} to {df['Renewable_Energy_%'].max()}\")"
   ]
  },
  {
   "cell_type": "raw",
   "id": "465bfaa0-7931-4831-98a9-ae50f191561f",
   "metadata": {},
   "source": [
    "Summary: \r\n",
    "The dataset comprises 50,000 rows and 20 columns# .\r\n",
    "There are missing values in several columns (especially in Outdoor_Temperature and Occupancy_Count# ). \n",
    "No duplicate rows were u# nd.\r\n",
    "Basic statistics and unique counts indicate a mix of residential and commercial buildings, featuring a proper date range covering the full ye 2# 023.\r\n",
    "The numerical columns show wide ranges, especially for energy consumption and building .yses."
   ]
  },
  {
   "cell_type": "code",
   "execution_count": null,
   "id": "91de82f5-3a5a-40a9-baa1-14a58243108f",
   "metadata": {},
   "outputs": [],
   "source": []
  }
 ],
 "metadata": {
  "kernelspec": {
   "display_name": "Python 3 (ipykernel)",
   "language": "python",
   "name": "python3"
  },
  "language_info": {
   "codemirror_mode": {
    "name": "ipython",
    "version": 3
   },
   "file_extension": ".py",
   "mimetype": "text/x-python",
   "name": "python",
   "nbconvert_exporter": "python",
   "pygments_lexer": "ipython3",
   "version": "3.10.16"
  }
 },
 "nbformat": 4,
 "nbformat_minor": 5
}
