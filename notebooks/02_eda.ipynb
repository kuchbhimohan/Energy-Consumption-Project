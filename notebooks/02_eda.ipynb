{
 "cells": [
  {
   "cell_type": "code",
   "execution_count": 50,
   "id": "70ac79a0-28eb-4460-9585-998284b40244",
   "metadata": {},
   "outputs": [],
   "source": [
    "import pandas as pd\n",
    "import numpy as np\n",
    "import matplotlib.pyplot as plt\n",
    "from src.utils.visualization import plot_histogram\n",
    "from src.utils.eda_utils import show_missing_values"
   ]
  },
  {
   "cell_type": "code",
   "execution_count": 2,
   "id": "9f97dcbd-a390-41cc-b62a-1b50fff94c65",
   "metadata": {
    "scrolled": true
   },
   "outputs": [
    {
     "data": {
      "text/html": [
       "<div>\n",
       "<style scoped>\n",
       "    .dataframe tbody tr th:only-of-type {\n",
       "        vertical-align: middle;\n",
       "    }\n",
       "\n",
       "    .dataframe tbody tr th {\n",
       "        vertical-align: top;\n",
       "    }\n",
       "\n",
       "    .dataframe thead th {\n",
       "        text-align: right;\n",
       "    }\n",
       "</style>\n",
       "<table border=\"1\" class=\"dataframe\">\n",
       "  <thead>\n",
       "    <tr style=\"text-align: right;\">\n",
       "      <th></th>\n",
       "      <th>Building_ID</th>\n",
       "      <th>Building_Type</th>\n",
       "      <th>Square_Footage</th>\n",
       "      <th>Age_of_Building</th>\n",
       "      <th>Occupancy_Count</th>\n",
       "      <th>Date</th>\n",
       "      <th>Day_of_Week</th>\n",
       "      <th>Month</th>\n",
       "      <th>Time_of_Day</th>\n",
       "      <th>Outdoor_Temperature</th>\n",
       "      <th>HVAC_Usage</th>\n",
       "      <th>Appliance_Usage</th>\n",
       "      <th>Holiday_Flag</th>\n",
       "      <th>Renewable_Energy_%</th>\n",
       "      <th>Weather_Condition</th>\n",
       "      <th>Energy_Consumption_kWh</th>\n",
       "      <th>Anomaly_Flag</th>\n",
       "      <th>Peak_Usage_Flag</th>\n",
       "      <th>Temp_vs_Consumption_Ratio</th>\n",
       "      <th>Building_Size_Category</th>\n",
       "    </tr>\n",
       "  </thead>\n",
       "  <tbody>\n",
       "    <tr>\n",
       "      <th>0</th>\n",
       "      <td>125</td>\n",
       "      <td>Residential</td>\n",
       "      <td>2882.727120</td>\n",
       "      <td>1</td>\n",
       "      <td>4.0</td>\n",
       "      <td>2023-08-22</td>\n",
       "      <td>Tuesday</td>\n",
       "      <td>August</td>\n",
       "      <td>Evening</td>\n",
       "      <td>79.102869</td>\n",
       "      <td>High</td>\n",
       "      <td>1</td>\n",
       "      <td>0</td>\n",
       "      <td>18.0</td>\n",
       "      <td>Sunny</td>\n",
       "      <td>250.69</td>\n",
       "      <td>0</td>\n",
       "      <td>1</td>\n",
       "      <td>3.169164</td>\n",
       "      <td>Medium</td>\n",
       "    </tr>\n",
       "    <tr>\n",
       "      <th>1</th>\n",
       "      <td>36</td>\n",
       "      <td>Residential</td>\n",
       "      <td>2397.797732</td>\n",
       "      <td>9</td>\n",
       "      <td>3.0</td>\n",
       "      <td>2023-05-22</td>\n",
       "      <td>Monday</td>\n",
       "      <td>May</td>\n",
       "      <td>Evening</td>\n",
       "      <td>NaN</td>\n",
       "      <td>Low</td>\n",
       "      <td>1</td>\n",
       "      <td>0</td>\n",
       "      <td>10.0</td>\n",
       "      <td>Cloudy</td>\n",
       "      <td>89.96</td>\n",
       "      <td>0</td>\n",
       "      <td>0</td>\n",
       "      <td>NaN</td>\n",
       "      <td>Medium</td>\n",
       "    </tr>\n",
       "    <tr>\n",
       "      <th>2</th>\n",
       "      <td>2</td>\n",
       "      <td>Residential</td>\n",
       "      <td>1930.867849</td>\n",
       "      <td>21</td>\n",
       "      <td>5.0</td>\n",
       "      <td>2023-05-25</td>\n",
       "      <td>Thursday</td>\n",
       "      <td>May</td>\n",
       "      <td>Evening</td>\n",
       "      <td>59.906903</td>\n",
       "      <td>Low</td>\n",
       "      <td>1</td>\n",
       "      <td>0</td>\n",
       "      <td>9.0</td>\n",
       "      <td>Cloudy</td>\n",
       "      <td>87.20</td>\n",
       "      <td>0</td>\n",
       "      <td>0</td>\n",
       "      <td>1.455592</td>\n",
       "      <td>Medium</td>\n",
       "    </tr>\n",
       "    <tr>\n",
       "      <th>3</th>\n",
       "      <td>229</td>\n",
       "      <td>Commercial</td>\n",
       "      <td>6696.244285</td>\n",
       "      <td>3</td>\n",
       "      <td>35.0</td>\n",
       "      <td>2023-10-03</td>\n",
       "      <td>Tuesday</td>\n",
       "      <td>October</td>\n",
       "      <td>Day</td>\n",
       "      <td>74.880985</td>\n",
       "      <td>Medium</td>\n",
       "      <td>1</td>\n",
       "      <td>0</td>\n",
       "      <td>0.0</td>\n",
       "      <td>Sunny</td>\n",
       "      <td>377.27</td>\n",
       "      <td>0</td>\n",
       "      <td>0</td>\n",
       "      <td>5.038262</td>\n",
       "      <td>Large</td>\n",
       "    </tr>\n",
       "    <tr>\n",
       "      <th>4</th>\n",
       "      <td>97</td>\n",
       "      <td>Commercial</td>\n",
       "      <td>11818.388089</td>\n",
       "      <td>35</td>\n",
       "      <td>16.0</td>\n",
       "      <td>2023-12-24</td>\n",
       "      <td>Sunday</td>\n",
       "      <td>December</td>\n",
       "      <td>Day</td>\n",
       "      <td>35.136324</td>\n",
       "      <td>High</td>\n",
       "      <td>1</td>\n",
       "      <td>0</td>\n",
       "      <td>0.0</td>\n",
       "      <td>Cloudy</td>\n",
       "      <td>397.68</td>\n",
       "      <td>0</td>\n",
       "      <td>0</td>\n",
       "      <td>11.318202</td>\n",
       "      <td>Very Large</td>\n",
       "    </tr>\n",
       "  </tbody>\n",
       "</table>\n",
       "</div>"
      ],
      "text/plain": [
       "   Building_ID Building_Type  Square_Footage  Age_of_Building  \\\n",
       "0          125   Residential     2882.727120                1   \n",
       "1           36   Residential     2397.797732                9   \n",
       "2            2   Residential     1930.867849               21   \n",
       "3          229    Commercial     6696.244285                3   \n",
       "4           97    Commercial    11818.388089               35   \n",
       "\n",
       "   Occupancy_Count        Date Day_of_Week     Month Time_of_Day  \\\n",
       "0              4.0  2023-08-22     Tuesday    August     Evening   \n",
       "1              3.0  2023-05-22      Monday       May     Evening   \n",
       "2              5.0  2023-05-25    Thursday       May     Evening   \n",
       "3             35.0  2023-10-03     Tuesday   October         Day   \n",
       "4             16.0  2023-12-24      Sunday  December         Day   \n",
       "\n",
       "   Outdoor_Temperature HVAC_Usage  Appliance_Usage  Holiday_Flag  \\\n",
       "0            79.102869       High                1             0   \n",
       "1                  NaN        Low                1             0   \n",
       "2            59.906903        Low                1             0   \n",
       "3            74.880985     Medium                1             0   \n",
       "4            35.136324       High                1             0   \n",
       "\n",
       "   Renewable_Energy_% Weather_Condition  Energy_Consumption_kWh  Anomaly_Flag  \\\n",
       "0                18.0             Sunny                  250.69             0   \n",
       "1                10.0            Cloudy                   89.96             0   \n",
       "2                 9.0            Cloudy                   87.20             0   \n",
       "3                 0.0             Sunny                  377.27             0   \n",
       "4                 0.0            Cloudy                  397.68             0   \n",
       "\n",
       "   Peak_Usage_Flag  Temp_vs_Consumption_Ratio Building_Size_Category  \n",
       "0                1                   3.169164                 Medium  \n",
       "1                0                        NaN                 Medium  \n",
       "2                0                   1.455592                 Medium  \n",
       "3                0                   5.038262                  Large  \n",
       "4                0                  11.318202             Very Large  "
      ]
     },
     "execution_count": 2,
     "metadata": {},
     "output_type": "execute_result"
    }
   ],
   "source": [
    "df = pd.read_csv('../data/raw/energy_consumption_dataset.csv')\n",
    "df.head()"
   ]
  },
  {
   "cell_type": "code",
   "execution_count": 3,
   "id": "6100888e-49db-416c-af8b-679c464f6203",
   "metadata": {},
   "outputs": [
    {
     "name": "stdout",
     "output_type": "stream",
     "text": [
      "Missing values per column:\n",
      "Building_ID                     0\n",
      "Building_Type                   0\n",
      "Square_Footage                  0\n",
      "Age_of_Building                 0\n",
      "Occupancy_Count              1000\n",
      "Date                            0\n",
      "Day_of_Week                     0\n",
      "Month                           0\n",
      "Time_of_Day                     0\n",
      "Outdoor_Temperature           446\n",
      "HVAC_Usage                      0\n",
      "Appliance_Usage                 0\n",
      "Holiday_Flag                    0\n",
      "Renewable_Energy_%             73\n",
      "Weather_Condition               0\n",
      "Energy_Consumption_kWh          0\n",
      "Anomaly_Flag                    0\n",
      "Peak_Usage_Flag                 0\n",
      "Temp_vs_Consumption_Ratio     446\n",
      "Building_Size_Category          0\n",
      "dtype: int64\n"
     ]
    }
   ],
   "source": [
    "missing_values = df.isnull().sum()\n",
    "print(\"Missing values per column:\")\n",
    "print(missing_values)"
   ]
  },
  {
   "cell_type": "raw",
   "id": "ea2e3bcd-5270-4c5a-8f57-17761f665718",
   "metadata": {},
   "source": [
    "This shows that Columns : Occupancy_Count , Outdoor_Tempearature, Renewable_energy_%, Temp_vs_Consumption_Ratio"
   ]
  },
  {
   "cell_type": "code",
   "execution_count": 4,
   "id": "a5535974-3f49-4532-a670-8f70e12b9a31",
   "metadata": {},
   "outputs": [
    {
     "name": "stdout",
     "output_type": "stream",
     "text": [
      "Datatype of Occupancy Count:  float64\n"
     ]
    }
   ],
   "source": [
    "## Analysing Occupancy Count\n",
    "print(\"Datatype of Occupancy Count: \",df['Occupancy_Count'].dtype)"
   ]
  },
  {
   "cell_type": "code",
   "execution_count": 5,
   "id": "ef755406-085c-400a-8a2f-fbcbfe8359d7",
   "metadata": {},
   "outputs": [
    {
     "data": {
      "image/png": "[encoded data removed]",
      "text/plain": [
       "<Figure size 1000x600 with 1 Axes>"
      ]
     },
     "metadata": {},
     "output_type": "display_data"
    }
   ],
   "source": [
    "# histogram for the Occupancy Count\n",
    "# Plot histogram\n",
    "plt.figure(figsize=(10, 6))\n",
    "plt.hist(df['Occupancy_Count'].dropna(), bins=50, edgecolor='black')\n",
    "plt.title('Distribution of Occupancy_Count')\n",
    "plt.xlabel('Number of Occupants')\n",
    "plt.ylabel('Frequency')\n",
    "plt.grid(True)\n",
    "plt.show()"
   ]
  },
  {
   "cell_type": "code",
   "execution_count": 6,
   "id": "67213536-ffd5-45bc-b087-2e374673d708",
   "metadata": {},
   "outputs": [
    {
     "name": "stdout",
     "output_type": "stream",
     "text": [
      "1006\n"
     ]
    }
   ],
   "source": [
    "# finding number if building where 0 people are present \n",
    "count_zeros = (df['Occupancy_Count'] == 0).sum()\n",
    "print(count_zeros) "
   ]
  },
  {
   "cell_type": "code",
   "execution_count": 7,
   "id": "2e408af6-3847-475c-9f29-49cd21edb37c",
   "metadata": {},
   "outputs": [
    {
     "name": "stdout",
     "output_type": "stream",
     "text": [
      "       Energy_Consumption_kWh\n",
      "count             1006.000000\n",
      "mean                59.091843\n",
      "std                 32.828831\n",
      "min                  5.181175\n",
      "25%                 35.180000\n",
      "50%                 50.955000\n",
      "75%                 78.072500\n",
      "max                354.128723\n"
     ]
    }
   ],
   "source": [
    "\"\"\" now we will try to understand whether these 0s are true values means no people are there in the building ,\n",
    "or these are jsut placeholders for nan values means they are jsut NAN values and dont represent correct 0 value.\"\"\"\n",
    "\n",
    "# Check if 0s correlate with other features (e.g., HVAC usage)\n",
    "zero_occupancy = df[df['Occupancy_Count'] == 0]\n",
    "print(zero_occupancy[['Building_Type', 'HVAC_Usage', 'Energy_Consumption_kWh']].describe())"
   ]
  },
  {
   "cell_type": "raw",
   "id": "fc7883ef-e87b-448e-bba6-d8130657aa63",
   "metadata": {},
   "source": [
    "All 1,006 rows with Occupancy_Count=0 show active energy usage (Energy_Consumption_kWh ranges from 5.18 to 354.13 kWh).\r\n",
    "This is physically impossible: Buildings consuming energy must have occupants (HVAC, lights, appliances don't run by themselves)."
   ]
  },
  {
   "cell_type": "raw",
   "id": "92d0bf44-4793-453c-a9e3-5e81d0b83767",
   "metadata": {},
   "source": [
    "We will mark these 0 values as NAN as these are not correct representation "
   ]
  },
  {
   "cell_type": "code",
   "execution_count": 9,
   "id": "2d7aa31e-6920-4148-a4e4-dba9afd63797",
   "metadata": {},
   "outputs": [],
   "source": [
    " #Replace all illogical 0s with NaN\n",
    "df.loc[(df['Occupancy_Count'] == 0) & (df['Energy_Consumption_kWh'] > 0), 'Occupancy_Count'] = np.nan"
   ]
  },
  {
   "cell_type": "code",
   "execution_count": 10,
   "id": "d30a7245-2827-4095-a427-fdc721b4fd0b",
   "metadata": {},
   "outputs": [
    {
     "name": "stdout",
     "output_type": "stream",
     "text": [
      "Missing values after correction: 2006\n"
     ]
    }
   ],
   "source": [
    "print(f\"Missing values after correction: {df['Occupancy_Count'].isnull().sum()}\")"
   ]
  },
  {
   "cell_type": "code",
   "execution_count": null,
   "id": "f2ddf45a-801b-46c9-9795-1ff7ed36d54e",
   "metadata": {},
   "outputs": [],
   "source": []
  },
  {
   "cell_type": "code",
   "execution_count": 12,
   "id": "950c15d7-df8a-408f-9764-d78f07ac3277",
   "metadata": {},
   "outputs": [
    {
     "data": {
      "image/png": "[encoded data removed]",
      "text/plain": [
       "<Figure size 1000x600 with 1 Axes>"
      ]
     },
     "metadata": {},
     "output_type": "display_data"
    }
   ],
   "source": [
    "plot_histogram(df,\"Occupancy_Count\");"
   ]
  },
  {
   "cell_type": "raw",
   "id": "ffcabdfe-878c-4e1d-8e3d-434f385bb072",
   "metadata": {},
   "source": [
    "The histogram has shifted as now there are no values with 0 Occupancy Count"
   ]
  },
  {
   "cell_type": "code",
   "execution_count": 13,
   "id": "73e512c6-b1b9-4970-91d9-2c2d3838ca25",
   "metadata": {},
   "outputs": [
    {
     "name": "stdout",
     "output_type": "stream",
     "text": [
      "Skewness: 2.68\n"
     ]
    }
   ],
   "source": [
    "# skewness of the Occupancy Count\n",
    "skewness = df['Occupancy_Count'].skew()\n",
    "print(f\"Skewness: {skewness:.2f}\")"
   ]
  },
  {
   "cell_type": "code",
   "execution_count": null,
   "id": "0f6d08ae-96cc-4257-81b6-7a4cb4514523",
   "metadata": {},
   "outputs": [],
   "source": []
  },
  {
   "cell_type": "code",
   "execution_count": 14,
   "id": "5ba8a239-2eeb-4699-ad8b-a614913572b9",
   "metadata": {},
   "outputs": [],
   "source": [
    "# as the skewness is postive it is right skewed , it was evident from the graph itself"
   ]
  },
  {
   "cell_type": "code",
   "execution_count": 16,
   "id": "d9fe95a3-a17b-4862-b377-73c61f8c616b",
   "metadata": {},
   "outputs": [],
   "source": [
    "# As we know that mean is not the correct choice for the imputation here as the data is very skewed ,so we will use median imputation, \n",
    "# but the thing is both commercial and residential buildings have different Ocuuoancy Counts, so we will use Median grouped by Building type"
   ]
  },
  {
   "cell_type": "code",
   "execution_count": 17,
   "id": "85db5d8e-6f8c-4ccf-915b-fa3ec6d9443f",
   "metadata": {},
   "outputs": [
    {
     "data": {
      "text/plain": [
       "0    Residential\n",
       "1    Residential\n",
       "2    Residential\n",
       "3     Commercial\n",
       "4     Commercial\n",
       "Name: Building_Type, dtype: object"
      ]
     },
     "execution_count": 17,
     "metadata": {},
     "output_type": "execute_result"
    }
   ],
   "source": [
    "df['Building_Type'].head()"
   ]
  },
  {
   "cell_type": "code",
   "execution_count": 18,
   "id": "5d70e13f-6f51-459e-bed1-0d4168ff5c89",
   "metadata": {},
   "outputs": [
    {
     "data": {
      "text/plain": [
       "array(['Residential', 'Commercial'], dtype=object)"
      ]
     },
     "execution_count": 18,
     "metadata": {},
     "output_type": "execute_result"
    }
   ],
   "source": [
    "df['Building_Type'].unique()"
   ]
  },
  {
   "cell_type": "code",
   "execution_count": 19,
   "id": "85f1fc25-7dc6-478c-a9f0-512660876130",
   "metadata": {},
   "outputs": [],
   "source": [
    "# Grouped median imputation (best for right-skewed data)\n",
    "df['Occupancy_Count'] = df.groupby('Building_Type')['Occupancy_Count'].transform(\n",
    "    lambda x: x.fillna(x.median())\n",
    ")"
   ]
  },
  {
   "cell_type": "code",
   "execution_count": 21,
   "id": "85861330-843b-45b5-8aee-758c32d5406a",
   "metadata": {},
   "outputs": [
    {
     "data": {
      "image/png": "[encoded data removed]",
      "text/plain": [
       "<Figure size 1000x600 with 1 Axes>"
      ]
     },
     "metadata": {},
     "output_type": "display_data"
    }
   ],
   "source": [
    "plot_histogram(df,'Occupancy_Count');"
   ]
  },
  {
   "cell_type": "code",
   "execution_count": 22,
   "id": "2f637e4f-69c7-4949-8321-2821139a6c88",
   "metadata": {},
   "outputs": [
    {
     "data": {
      "text/plain": [
       "0"
      ]
     },
     "execution_count": 22,
     "metadata": {},
     "output_type": "execute_result"
    }
   ],
   "source": [
    "df['Occupancy_Count'].isnull().sum()"
   ]
  },
  {
   "cell_type": "code",
   "execution_count": 23,
   "id": "6321177c-fb6a-4d7b-ac54-0de90012db17",
   "metadata": {},
   "outputs": [],
   "source": [
    "# now there are no null values in the Occupancy_Count column"
   ]
  },
  {
   "cell_type": "code",
   "execution_count": 25,
   "id": "57b4968a-59b9-4a3c-adf9-66c811f0d3c8",
   "metadata": {},
   "outputs": [
    {
     "name": "stdout",
     "output_type": "stream",
     "text": [
      "==================================================\n",
      "MISSING VALUES ANALYSIS\n",
      "==================================================\n",
      "                           Missing Count  Missing (%)\n",
      "Building_ID                            0         0.00\n",
      "Building_Type                          0         0.00\n",
      "Square_Footage                         0         0.00\n",
      "Age_of_Building                        0         0.00\n",
      "Occupancy_Count                        0         0.00\n",
      "Date                                   0         0.00\n",
      "Day_of_Week                            0         0.00\n",
      "Month                                  0         0.00\n",
      "Time_of_Day                            0         0.00\n",
      "Outdoor_Temperature                  446         0.89\n",
      "HVAC_Usage                             0         0.00\n",
      "Appliance_Usage                        0         0.00\n",
      "Holiday_Flag                           0         0.00\n",
      "Renewable_Energy_%                    73         0.15\n",
      "Weather_Condition                      0         0.00\n",
      "Energy_Consumption_kWh                 0         0.00\n",
      "Anomaly_Flag                           0         0.00\n",
      "Peak_Usage_Flag                        0         0.00\n",
      "Temp_vs_Consumption_Ratio            446         0.89\n",
      "Building_Size_Category                 0         0.00\n",
      "\n",
      "Total rows in dataset: 50000\n",
      "==================================================\n"
     ]
    }
   ],
   "source": [
    "from src.utils.eda_utils import show_missing_values\n",
    "show_missing_values(df, show_percentage=True)"
   ]
  },
  {
   "cell_type": "code",
   "execution_count": 26,
   "id": "2d683cf3-604d-4d73-a491-77a0a9bd4fa4",
   "metadata": {},
   "outputs": [],
   "source": [
    "# only Outdoor Temperature and Temp_vs_Consumption Ratio are the columns in which null values are present "
   ]
  },
  {
   "cell_type": "code",
   "execution_count": 27,
   "id": "5e613854-e46a-441b-a2be-9ac72aa9fdfe",
   "metadata": {},
   "outputs": [
    {
     "data": {
      "text/plain": [
       "dtype('float64')"
      ]
     },
     "execution_count": 27,
     "metadata": {},
     "output_type": "execute_result"
    }
   ],
   "source": [
    "df['Outdoor_Temperature'].dtype"
   ]
  },
  {
   "cell_type": "code",
   "execution_count": 28,
   "id": "ffbb6cea-09e5-45ed-9838-2922abaa1ab2",
   "metadata": {},
   "outputs": [
    {
     "data": {
      "image/png": "[encoded data removed]",
      "text/plain": [
       "<Figure size 1000x600 with 1 Axes>"
      ]
     },
     "metadata": {},
     "output_type": "display_data"
    }
   ],
   "source": [
    "# plotting the histogram of the Outdoor Temperature\n",
    "plot_histogram(df,'Outdoor_Temperature',edgecolor='green',color='black');"
   ]
  },
  {
   "cell_type": "code",
   "execution_count": 29,
   "id": "8f18e81f-f12f-46d4-af27-8e855ee32605",
   "metadata": {},
   "outputs": [
    {
     "data": {
      "text/plain": [
       "count    49554.000000\n",
       "mean        57.383271\n",
       "std         19.296847\n",
       "min         12.234387\n",
       "25%         40.213776\n",
       "50%         57.242070\n",
       "75%         74.686788\n",
       "max        102.456885\n",
       "Name: Outdoor_Temperature, dtype: float64"
      ]
     },
     "execution_count": 29,
     "metadata": {},
     "output_type": "execute_result"
    }
   ],
   "source": [
    "df['Outdoor_Temperature'].describe()"
   ]
  },
  {
   "cell_type": "code",
   "execution_count": 30,
   "id": "ba8bf43a-19b8-49b6-be1e-e107010fb419",
   "metadata": {},
   "outputs": [],
   "source": [
    "# the data is approximately normal so we can use median or mean imputation as both are very clsoe to each other \n",
    "df['Outdoor_Temperature'].fillna(df['Outdoor_Temperature'].median(), inplace=True)"
   ]
  },
  {
   "cell_type": "code",
   "execution_count": 31,
   "id": "cbf5ec8c-4aea-4743-b0ba-a9c7a59a8079",
   "metadata": {},
   "outputs": [
    {
     "name": "stdout",
     "output_type": "stream",
     "text": [
      "==================================================\n",
      "MISSING VALUES ANALYSIS\n",
      "==================================================\n",
      "                           Missing Count  Missing (%)\n",
      "Building_ID                            0         0.00\n",
      "Building_Type                          0         0.00\n",
      "Square_Footage                         0         0.00\n",
      "Age_of_Building                        0         0.00\n",
      "Occupancy_Count                        0         0.00\n",
      "Date                                   0         0.00\n",
      "Day_of_Week                            0         0.00\n",
      "Month                                  0         0.00\n",
      "Time_of_Day                            0         0.00\n",
      "Outdoor_Temperature                    0         0.00\n",
      "HVAC_Usage                             0         0.00\n",
      "Appliance_Usage                        0         0.00\n",
      "Holiday_Flag                           0         0.00\n",
      "Renewable_Energy_%                    73         0.15\n",
      "Weather_Condition                      0         0.00\n",
      "Energy_Consumption_kWh                 0         0.00\n",
      "Anomaly_Flag                           0         0.00\n",
      "Peak_Usage_Flag                        0         0.00\n",
      "Temp_vs_Consumption_Ratio            446         0.89\n",
      "Building_Size_Category                 0         0.00\n",
      "\n",
      "Total rows in dataset: 50000\n",
      "==================================================\n"
     ]
    }
   ],
   "source": [
    "show_missing_values(df,show_percentage=True);"
   ]
  },
  {
   "cell_type": "code",
   "execution_count": 33,
   "id": "5704fa46-20b2-4998-93e5-e0c313d469a1",
   "metadata": {},
   "outputs": [
    {
     "data": {
      "image/png": "[encoded data removed]",
      "text/plain": [
       "<Figure size 1000x600 with 1 Axes>"
      ]
     },
     "metadata": {},
     "output_type": "display_data"
    }
   ],
   "source": [
    "plot_histogram(df, 'Outdoor_Temperature', color=\"red\", edgecolor=\"blue\");"
   ]
  },
  {
   "cell_type": "code",
   "execution_count": 34,
   "id": "36a2f97d-6c8d-4e71-86b2-2c0d64694a65",
   "metadata": {},
   "outputs": [
    {
     "data": {
      "text/plain": [
       "dtype('float64')"
      ]
     },
     "execution_count": 34,
     "metadata": {},
     "output_type": "execute_result"
    }
   ],
   "source": [
    "## now focusing on Renewable_Energy_% column\n",
    "# it has 73 missing values NAN\n",
    "df['Renewable_Energy_%'].dtype"
   ]
  },
  {
   "cell_type": "code",
   "execution_count": 35,
   "id": "5344276d-b0bd-4529-880f-b36c5fd171fd",
   "metadata": {},
   "outputs": [
    {
     "data": {
      "image/png": "[encoded data removed]",
      "text/plain": [
       "<Figure size 1000x600 with 1 Axes>"
      ]
     },
     "metadata": {},
     "output_type": "display_data"
    }
   ],
   "source": [
    "# plotting the histogram of the Renewable Energy Column\n",
    "plot_histogram(df, 'Renewable_Energy_%');"
   ]
  },
  {
   "cell_type": "code",
   "execution_count": 36,
   "id": "452faa6e-5c09-4a06-8482-afd029a7459d",
   "metadata": {},
   "outputs": [
    {
     "name": "stdout",
     "output_type": "stream",
     "text": [
      "Number of 0% renewable energy records: 35338\n"
     ]
    }
   ],
   "source": [
    "# this shows that renewable energy is very rarely used in the dataset given \n",
    "# finding the values where 0 % renewable energy is present , \n",
    "zero_count = (df['Renewable_Energy_%'] == 0).sum()\n",
    "print(f\"Number of 0% renewable energy records: {zero_count}\")"
   ]
  },
  {
   "cell_type": "code",
   "execution_count": 38,
   "id": "fa8379de-b406-4105-8d07-4bb3b7951c95",
   "metadata": {},
   "outputs": [],
   "source": [
    "# we will fill the missing NAN valus with 0 as a very huge portion of this column has value 0 and missing values are most likely telling that there is no renewable energy usage in it\n",
    "df['Renewable_Energy_%'] = df['Renewable_Energy_%'].fillna(0)"
   ]
  },
  {
   "cell_type": "code",
   "execution_count": 39,
   "id": "1736a13f-6c09-4c81-a4c0-f41d0da2ead0",
   "metadata": {},
   "outputs": [
    {
     "name": "stdout",
     "output_type": "stream",
     "text": [
      "       Renewable_Energy_%  Has_Renewable\n",
      "34269                21.0              1\n",
      "24774                 0.0              0\n",
      "14300                 0.0              0\n",
      "29905                 0.0              0\n",
      "40449                 6.0              1\n"
     ]
    }
   ],
   "source": [
    "# we will create another column which is a binary feature telling whther a building is using renewable enrgy or not \n",
    "df['Has_Renewable'] = (df['Renewable_Energy_%'] > 0).astype(int)\n",
    "print(df[['Renewable_Energy_%', 'Has_Renewable']].sample(5))"
   ]
  },
  {
   "cell_type": "code",
   "execution_count": 40,
   "id": "0a38e144-2e52-452b-ac66-c589712440c2",
   "metadata": {},
   "outputs": [
    {
     "name": "stdout",
     "output_type": "stream",
     "text": [
      "==================================================\n",
      "MISSING VALUES ANALYSIS\n",
      "==================================================\n",
      "                           Missing Count\n",
      "Building_ID                            0\n",
      "Building_Type                          0\n",
      "Square_Footage                         0\n",
      "Age_of_Building                        0\n",
      "Occupancy_Count                        0\n",
      "Date                                   0\n",
      "Day_of_Week                            0\n",
      "Month                                  0\n",
      "Time_of_Day                            0\n",
      "Outdoor_Temperature                    0\n",
      "HVAC_Usage                             0\n",
      "Appliance_Usage                        0\n",
      "Holiday_Flag                           0\n",
      "Renewable_Energy_%                     0\n",
      "Weather_Condition                      0\n",
      "Energy_Consumption_kWh                 0\n",
      "Anomaly_Flag                           0\n",
      "Peak_Usage_Flag                        0\n",
      "Temp_vs_Consumption_Ratio            446\n",
      "Building_Size_Category                 0\n",
      "Has_Renewable                          0\n",
      "\n",
      "Total rows in dataset: 50000\n",
      "==================================================\n"
     ]
    }
   ],
   "source": [
    "show_missing_values(df)"
   ]
  },
  {
   "cell_type": "code",
   "execution_count": 41,
   "id": "79009b08-8e6b-49fd-bf94-ab728524bf67",
   "metadata": {},
   "outputs": [],
   "source": [
    "# Temp_vs_Consumption_Ratio is nothign but the ratio of Energy_Consumption_kWh and Outdoor_Temperature\n",
    "# we will jsut find the ratio again and now the column will not have nan values"
   ]
  },
  {
   "cell_type": "code",
   "execution_count": 43,
   "id": "715c542b-a160-4ef9-81d9-009a7bb0ae7b",
   "metadata": {},
   "outputs": [
    {
     "data": {
      "text/plain": [
       "dtype('float64')"
      ]
     },
     "execution_count": 43,
     "metadata": {},
     "output_type": "execute_result"
    }
   ],
   "source": [
    "df['Temp_vs_Consumption_Ratio'].dtype"
   ]
  },
  {
   "cell_type": "code",
   "execution_count": 42,
   "id": "39c1580f-7e81-4e93-ad3b-74fb7edcbc7e",
   "metadata": {},
   "outputs": [
    {
     "data": {
      "text/html": [
       "<div>\n",
       "<style scoped>\n",
       "    .dataframe tbody tr th:only-of-type {\n",
       "        vertical-align: middle;\n",
       "    }\n",
       "\n",
       "    .dataframe tbody tr th {\n",
       "        vertical-align: top;\n",
       "    }\n",
       "\n",
       "    .dataframe thead th {\n",
       "        text-align: right;\n",
       "    }\n",
       "</style>\n",
       "<table border=\"1\" class=\"dataframe\">\n",
       "  <thead>\n",
       "    <tr style=\"text-align: right;\">\n",
       "      <th></th>\n",
       "      <th>Outdoor_Temperature</th>\n",
       "      <th>Energy_Consumption_kWh</th>\n",
       "      <th>Temp_vs_Consumption_Ratio</th>\n",
       "    </tr>\n",
       "  </thead>\n",
       "  <tbody>\n",
       "    <tr>\n",
       "      <th>0</th>\n",
       "      <td>79.102869</td>\n",
       "      <td>250.69</td>\n",
       "      <td>3.169164</td>\n",
       "    </tr>\n",
       "    <tr>\n",
       "      <th>1</th>\n",
       "      <td>57.242070</td>\n",
       "      <td>89.96</td>\n",
       "      <td>NaN</td>\n",
       "    </tr>\n",
       "    <tr>\n",
       "      <th>2</th>\n",
       "      <td>59.906903</td>\n",
       "      <td>87.20</td>\n",
       "      <td>1.455592</td>\n",
       "    </tr>\n",
       "    <tr>\n",
       "      <th>3</th>\n",
       "      <td>74.880985</td>\n",
       "      <td>377.27</td>\n",
       "      <td>5.038262</td>\n",
       "    </tr>\n",
       "    <tr>\n",
       "      <th>4</th>\n",
       "      <td>35.136324</td>\n",
       "      <td>397.68</td>\n",
       "      <td>11.318202</td>\n",
       "    </tr>\n",
       "  </tbody>\n",
       "</table>\n",
       "</div>"
      ],
      "text/plain": [
       "   Outdoor_Temperature  Energy_Consumption_kWh  Temp_vs_Consumption_Ratio\n",
       "0            79.102869                  250.69                   3.169164\n",
       "1            57.242070                   89.96                        NaN\n",
       "2            59.906903                   87.20                   1.455592\n",
       "3            74.880985                  377.27                   5.038262\n",
       "4            35.136324                  397.68                  11.318202"
      ]
     },
     "execution_count": 42,
     "metadata": {},
     "output_type": "execute_result"
    }
   ],
   "source": [
    "df[['Outdoor_Temperature', 'Energy_Consumption_kWh', 'Temp_vs_Consumption_Ratio']].head()"
   ]
  },
  {
   "cell_type": "code",
   "execution_count": 44,
   "id": "0df8778b-b4b5-47e5-a006-2ffa048fe404",
   "metadata": {},
   "outputs": [],
   "source": [
    "df['Temp_vs_Consumption_Ratio'] = df['Energy_Consumption_kWh']/ df['Outdoor_Temperature']"
   ]
  },
  {
   "cell_type": "code",
   "execution_count": 45,
   "id": "d5d4a67f-fa52-450c-bfb6-c68143c0e210",
   "metadata": {},
   "outputs": [
    {
     "data": {
      "text/html": [
       "<div>\n",
       "<style scoped>\n",
       "    .dataframe tbody tr th:only-of-type {\n",
       "        vertical-align: middle;\n",
       "    }\n",
       "\n",
       "    .dataframe tbody tr th {\n",
       "        vertical-align: top;\n",
       "    }\n",
       "\n",
       "    .dataframe thead th {\n",
       "        text-align: right;\n",
       "    }\n",
       "</style>\n",
       "<table border=\"1\" class=\"dataframe\">\n",
       "  <thead>\n",
       "    <tr style=\"text-align: right;\">\n",
       "      <th></th>\n",
       "      <th>Outdoor_Temperature</th>\n",
       "      <th>Energy_Consumption_kWh</th>\n",
       "      <th>Temp_vs_Consumption_Ratio</th>\n",
       "    </tr>\n",
       "  </thead>\n",
       "  <tbody>\n",
       "    <tr>\n",
       "      <th>0</th>\n",
       "      <td>79.102869</td>\n",
       "      <td>250.69</td>\n",
       "      <td>3.169164</td>\n",
       "    </tr>\n",
       "    <tr>\n",
       "      <th>1</th>\n",
       "      <td>57.242070</td>\n",
       "      <td>89.96</td>\n",
       "      <td>1.571571</td>\n",
       "    </tr>\n",
       "    <tr>\n",
       "      <th>2</th>\n",
       "      <td>59.906903</td>\n",
       "      <td>87.20</td>\n",
       "      <td>1.455592</td>\n",
       "    </tr>\n",
       "    <tr>\n",
       "      <th>3</th>\n",
       "      <td>74.880985</td>\n",
       "      <td>377.27</td>\n",
       "      <td>5.038262</td>\n",
       "    </tr>\n",
       "    <tr>\n",
       "      <th>4</th>\n",
       "      <td>35.136324</td>\n",
       "      <td>397.68</td>\n",
       "      <td>11.318202</td>\n",
       "    </tr>\n",
       "  </tbody>\n",
       "</table>\n",
       "</div>"
      ],
      "text/plain": [
       "   Outdoor_Temperature  Energy_Consumption_kWh  Temp_vs_Consumption_Ratio\n",
       "0            79.102869                  250.69                   3.169164\n",
       "1            57.242070                   89.96                   1.571571\n",
       "2            59.906903                   87.20                   1.455592\n",
       "3            74.880985                  377.27                   5.038262\n",
       "4            35.136324                  397.68                  11.318202"
      ]
     },
     "execution_count": 45,
     "metadata": {},
     "output_type": "execute_result"
    }
   ],
   "source": [
    "df[['Outdoor_Temperature', 'Energy_Consumption_kWh', 'Temp_vs_Consumption_Ratio']].head()"
   ]
  },
  {
   "cell_type": "code",
   "execution_count": 46,
   "id": "8c2d3968-13a8-49e7-ba06-8ca98248c365",
   "metadata": {},
   "outputs": [
    {
     "name": "stdout",
     "output_type": "stream",
     "text": [
      "==================================================\n",
      "MISSING VALUES ANALYSIS\n",
      "==================================================\n",
      "                           Missing Count\n",
      "Building_ID                            0\n",
      "Building_Type                          0\n",
      "Square_Footage                         0\n",
      "Age_of_Building                        0\n",
      "Occupancy_Count                        0\n",
      "Date                                   0\n",
      "Day_of_Week                            0\n",
      "Month                                  0\n",
      "Time_of_Day                            0\n",
      "Outdoor_Temperature                    0\n",
      "HVAC_Usage                             0\n",
      "Appliance_Usage                        0\n",
      "Holiday_Flag                           0\n",
      "Renewable_Energy_%                     0\n",
      "Weather_Condition                      0\n",
      "Energy_Consumption_kWh                 0\n",
      "Anomaly_Flag                           0\n",
      "Peak_Usage_Flag                        0\n",
      "Temp_vs_Consumption_Ratio              0\n",
      "Building_Size_Category                 0\n",
      "Has_Renewable                          0\n",
      "\n",
      "Total rows in dataset: 50000\n",
      "==================================================\n"
     ]
    }
   ],
   "source": [
    "show_missing_values(df)"
   ]
  },
  {
   "cell_type": "code",
   "execution_count": 47,
   "id": "bfe7d883-6761-4b93-9907-f5b6389c92fb",
   "metadata": {},
   "outputs": [],
   "source": [
    "# now there are no missing values in the dataset as we ahve treated all missing values in our dataset \n",
    "# we wil also drop the features are not useful for our datset , mainly Building_ID and Anomaly_Flag , \n",
    "df.drop(columns=['Building_ID', 'Anomaly_Flag'], inplace=True)"
   ]
  },
  {
   "cell_type": "code",
   "execution_count": 48,
   "id": "655fb80b-597f-43ea-907d-78d0d9eec39e",
   "metadata": {},
   "outputs": [
    {
     "data": {
      "text/plain": [
       "Index(['Building_Type', 'Square_Footage', 'Age_of_Building', 'Occupancy_Count',\n",
       "       'Date', 'Day_of_Week', 'Month', 'Time_of_Day', 'Outdoor_Temperature',\n",
       "       'HVAC_Usage', 'Appliance_Usage', 'Holiday_Flag', 'Renewable_Energy_%',\n",
       "       'Weather_Condition', 'Energy_Consumption_kWh', 'Peak_Usage_Flag',\n",
       "       'Temp_vs_Consumption_Ratio', 'Building_Size_Category', 'Has_Renewable'],\n",
       "      dtype='object')"
      ]
     },
     "execution_count": 48,
     "metadata": {},
     "output_type": "execute_result"
    }
   ],
   "source": [
    "df.columns"
   ]
  },
  {
   "cell_type": "code",
   "execution_count": 49,
   "id": "2b38d5f4-29fc-4d56-a258-6c32a4a0a918",
   "metadata": {},
   "outputs": [],
   "source": [
    "# saving this processed df to csv file for further analysis \n",
    "df.to_csv('../data/processed/Energy_Consumption_Processed_01_Cleaned.csv', index=False)  # Excludes row indices"
   ]
  },
  {
   "cell_type": "code",
   "execution_count": null,
   "id": "e2ffae4e-e3e3-4385-b13f-464f31493bb6",
   "metadata": {},
   "outputs": [],
   "source": []
  }
 ],
 "metadata": {
  "kernelspec": {
   "display_name": "Python 3 (ipykernel)",
   "language": "python",
   "name": "python3"
  },
  "language_info": {
   "codemirror_mode": {
    "name": "ipython",
    "version": 3
   },
   "file_extension": ".py",
   "mimetype": "text/x-python",
   "name": "python",
   "nbconvert_exporter": "python",
   "pygments_lexer": "ipython3",
   "version": "3.10.16"
  }
 },
 "nbformat": 4,
 "nbformat_minor": 5
}
