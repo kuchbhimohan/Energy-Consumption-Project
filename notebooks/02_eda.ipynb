{
 "cells": [
  {
   "cell_type": "code",
   "execution_count": 6,
   "id": "70ac79a0-28eb-4460-9585-998284b40244",
   "metadata": {},
   "outputs": [],
   "source": [
    "import pandas as pd\n",
    "import numpy as np\n",
    "import matplotlib.pyplot as plt"
   ]
  },
  {
   "cell_type": "code",
   "execution_count": 2,
   "id": "9f97dcbd-a390-41cc-b62a-1b50fff94c65",
   "metadata": {},
   "outputs": [
    {
     "data": {
      "text/html": [
       "<div>\n",
       "<style scoped>\n",
       "    .dataframe tbody tr th:only-of-type {\n",
       "        vertical-align: middle;\n",
       "    }\n",
       "\n",
       "    .dataframe tbody tr th {\n",
       "        vertical-align: top;\n",
       "    }\n",
       "\n",
       "    .dataframe thead th {\n",
       "        text-align: right;\n",
       "    }\n",
       "</style>\n",
       "<table border=\"1\" class=\"dataframe\">\n",
       "  <thead>\n",
       "    <tr style=\"text-align: right;\">\n",
       "      <th></th>\n",
       "      <th>Building_ID</th>\n",
       "      <th>Building_Type</th>\n",
       "      <th>Square_Footage</th>\n",
       "      <th>Age_of_Building</th>\n",
       "      <th>Occupancy_Count</th>\n",
       "      <th>Date</th>\n",
       "      <th>Day_of_Week</th>\n",
       "      <th>Month</th>\n",
       "      <th>Time_of_Day</th>\n",
       "      <th>Outdoor_Temperature</th>\n",
       "      <th>HVAC_Usage</th>\n",
       "      <th>Appliance_Usage</th>\n",
       "      <th>Holiday_Flag</th>\n",
       "      <th>Renewable_Energy_%</th>\n",
       "      <th>Weather_Condition</th>\n",
       "      <th>Energy_Consumption_kWh</th>\n",
       "      <th>Anomaly_Flag</th>\n",
       "      <th>Peak_Usage_Flag</th>\n",
       "      <th>Temp_vs_Consumption_Ratio</th>\n",
       "      <th>Building_Size_Category</th>\n",
       "    </tr>\n",
       "  </thead>\n",
       "  <tbody>\n",
       "    <tr>\n",
       "      <th>0</th>\n",
       "      <td>125</td>\n",
       "      <td>Residential</td>\n",
       "      <td>2882.727120</td>\n",
       "      <td>1</td>\n",
       "      <td>4.0</td>\n",
       "      <td>2023-08-22</td>\n",
       "      <td>Tuesday</td>\n",
       "      <td>August</td>\n",
       "      <td>Evening</td>\n",
       "      <td>79.102869</td>\n",
       "      <td>High</td>\n",
       "      <td>1</td>\n",
       "      <td>0</td>\n",
       "      <td>18.0</td>\n",
       "      <td>Sunny</td>\n",
       "      <td>250.69</td>\n",
       "      <td>0</td>\n",
       "      <td>1</td>\n",
       "      <td>3.169164</td>\n",
       "      <td>Medium</td>\n",
       "    </tr>\n",
       "    <tr>\n",
       "      <th>1</th>\n",
       "      <td>36</td>\n",
       "      <td>Residential</td>\n",
       "      <td>2397.797732</td>\n",
       "      <td>9</td>\n",
       "      <td>3.0</td>\n",
       "      <td>2023-05-22</td>\n",
       "      <td>Monday</td>\n",
       "      <td>May</td>\n",
       "      <td>Evening</td>\n",
       "      <td>NaN</td>\n",
       "      <td>Low</td>\n",
       "      <td>1</td>\n",
       "      <td>0</td>\n",
       "      <td>10.0</td>\n",
       "      <td>Cloudy</td>\n",
       "      <td>89.96</td>\n",
       "      <td>0</td>\n",
       "      <td>0</td>\n",
       "      <td>NaN</td>\n",
       "      <td>Medium</td>\n",
       "    </tr>\n",
       "    <tr>\n",
       "      <th>2</th>\n",
       "      <td>2</td>\n",
       "      <td>Residential</td>\n",
       "      <td>1930.867849</td>\n",
       "      <td>21</td>\n",
       "      <td>5.0</td>\n",
       "      <td>2023-05-25</td>\n",
       "      <td>Thursday</td>\n",
       "      <td>May</td>\n",
       "      <td>Evening</td>\n",
       "      <td>59.906903</td>\n",
       "      <td>Low</td>\n",
       "      <td>1</td>\n",
       "      <td>0</td>\n",
       "      <td>9.0</td>\n",
       "      <td>Cloudy</td>\n",
       "      <td>87.20</td>\n",
       "      <td>0</td>\n",
       "      <td>0</td>\n",
       "      <td>1.455592</td>\n",
       "      <td>Medium</td>\n",
       "    </tr>\n",
       "    <tr>\n",
       "      <th>3</th>\n",
       "      <td>229</td>\n",
       "      <td>Commercial</td>\n",
       "      <td>6696.244285</td>\n",
       "      <td>3</td>\n",
       "      <td>35.0</td>\n",
       "      <td>2023-10-03</td>\n",
       "      <td>Tuesday</td>\n",
       "      <td>October</td>\n",
       "      <td>Day</td>\n",
       "      <td>74.880985</td>\n",
       "      <td>Medium</td>\n",
       "      <td>1</td>\n",
       "      <td>0</td>\n",
       "      <td>0.0</td>\n",
       "      <td>Sunny</td>\n",
       "      <td>377.27</td>\n",
       "      <td>0</td>\n",
       "      <td>0</td>\n",
       "      <td>5.038262</td>\n",
       "      <td>Large</td>\n",
       "    </tr>\n",
       "    <tr>\n",
       "      <th>4</th>\n",
       "      <td>97</td>\n",
       "      <td>Commercial</td>\n",
       "      <td>11818.388089</td>\n",
       "      <td>35</td>\n",
       "      <td>16.0</td>\n",
       "      <td>2023-12-24</td>\n",
       "      <td>Sunday</td>\n",
       "      <td>December</td>\n",
       "      <td>Day</td>\n",
       "      <td>35.136324</td>\n",
       "      <td>High</td>\n",
       "      <td>1</td>\n",
       "      <td>0</td>\n",
       "      <td>0.0</td>\n",
       "      <td>Cloudy</td>\n",
       "      <td>397.68</td>\n",
       "      <td>0</td>\n",
       "      <td>0</td>\n",
       "      <td>11.318202</td>\n",
       "      <td>Very Large</td>\n",
       "    </tr>\n",
       "  </tbody>\n",
       "</table>\n",
       "</div>"
      ],
      "text/plain": [
       "   Building_ID Building_Type  Square_Footage  Age_of_Building  \\\n",
       "0          125   Residential     2882.727120                1   \n",
       "1           36   Residential     2397.797732                9   \n",
       "2            2   Residential     1930.867849               21   \n",
       "3          229    Commercial     6696.244285                3   \n",
       "4           97    Commercial    11818.388089               35   \n",
       "\n",
       "   Occupancy_Count        Date Day_of_Week     Month Time_of_Day  \\\n",
       "0              4.0  2023-08-22     Tuesday    August     Evening   \n",
       "1              3.0  2023-05-22      Monday       May     Evening   \n",
       "2              5.0  2023-05-25    Thursday       May     Evening   \n",
       "3             35.0  2023-10-03     Tuesday   October         Day   \n",
       "4             16.0  2023-12-24      Sunday  December         Day   \n",
       "\n",
       "   Outdoor_Temperature HVAC_Usage  Appliance_Usage  Holiday_Flag  \\\n",
       "0            79.102869       High                1             0   \n",
       "1                  NaN        Low                1             0   \n",
       "2            59.906903        Low                1             0   \n",
       "3            74.880985     Medium                1             0   \n",
       "4            35.136324       High                1             0   \n",
       "\n",
       "   Renewable_Energy_% Weather_Condition  Energy_Consumption_kWh  Anomaly_Flag  \\\n",
       "0                18.0             Sunny                  250.69             0   \n",
       "1                10.0            Cloudy                   89.96             0   \n",
       "2                 9.0            Cloudy                   87.20             0   \n",
       "3                 0.0             Sunny                  377.27             0   \n",
       "4                 0.0            Cloudy                  397.68             0   \n",
       "\n",
       "   Peak_Usage_Flag  Temp_vs_Consumption_Ratio Building_Size_Category  \n",
       "0                1                   3.169164                 Medium  \n",
       "1                0                        NaN                 Medium  \n",
       "2                0                   1.455592                 Medium  \n",
       "3                0                   5.038262                  Large  \n",
       "4                0                  11.318202             Very Large  "
      ]
     },
     "execution_count": 2,
     "metadata": {},
     "output_type": "execute_result"
    }
   ],
   "source": [
    "df = pd.read_csv('../data/raw/energy_consumption_dataset.csv')\n",
    "df.head()"
   ]
  },
  {
   "cell_type": "code",
   "execution_count": 3,
   "id": "6100888e-49db-416c-af8b-679c464f6203",
   "metadata": {},
   "outputs": [
    {
     "name": "stdout",
     "output_type": "stream",
     "text": [
      "Missing values per column:\n",
      "Building_ID                     0\n",
      "Building_Type                   0\n",
      "Square_Footage                  0\n",
      "Age_of_Building                 0\n",
      "Occupancy_Count              1000\n",
      "Date                            0\n",
      "Day_of_Week                     0\n",
      "Month                           0\n",
      "Time_of_Day                     0\n",
      "Outdoor_Temperature           446\n",
      "HVAC_Usage                      0\n",
      "Appliance_Usage                 0\n",
      "Holiday_Flag                    0\n",
      "Renewable_Energy_%             73\n",
      "Weather_Condition               0\n",
      "Energy_Consumption_kWh          0\n",
      "Anomaly_Flag                    0\n",
      "Peak_Usage_Flag                 0\n",
      "Temp_vs_Consumption_Ratio     446\n",
      "Building_Size_Category          0\n",
      "dtype: int64\n"
     ]
    }
   ],
   "source": [
    "missing_values = df.isnull().sum()\n",
    "print(\"Missing values per column:\")\n",
    "print(missing_values)"
   ]
  },
  {
   "cell_type": "raw",
   "id": "ea2e3bcd-5270-4c5a-8f57-17761f665718",
   "metadata": {},
   "source": [
    "This shows that Columns : Occupancy_Count , Outdoor_Tempearature, Renewable_energy_%, Temp_vs_Consumption_Ratio"
   ]
  },
  {
   "cell_type": "code",
   "execution_count": 4,
   "id": "a5535974-3f49-4532-a670-8f70e12b9a31",
   "metadata": {},
   "outputs": [
    {
     "name": "stdout",
     "output_type": "stream",
     "text": [
      "Datatype of Occupancy Count:  float64\n"
     ]
    }
   ],
   "source": [
    "## Analysing Occupancy Count\n",
    "print(\"Datatype of Occupancy Count: \",df['Occupancy_Count'].dtype)"
   ]
  },
  {
   "cell_type": "code",
   "execution_count": 8,
   "id": "ef755406-085c-400a-8a2f-fbcbfe8359d7",
   "metadata": {},
   "outputs": [
    {
     "data": {
      "image/png": "[encoded data removed]",
      "text/plain": [
       "<Figure size 1000x600 with 1 Axes>"
      ]
     },
     "metadata": {},
     "output_type": "display_data"
    }
   ],
   "source": [
    "# histogram for the Occupancy Count\n",
    "# Plot histogram\n",
    "plt.figure(figsize=(10, 6))\n",
    "plt.hist(df['Occupancy_Count'].dropna(), bins=50, edgecolor='black')\n",
    "plt.title('Distribution of Occupancy_Count')\n",
    "plt.xlabel('Number of Occupants')\n",
    "plt.ylabel('Frequency')\n",
    "plt.grid(True)\n",
    "plt.show()"
   ]
  },
  {
   "cell_type": "code",
   "execution_count": 9,
   "id": "67213536-ffd5-45bc-b087-2e374673d708",
   "metadata": {},
   "outputs": [
    {
     "name": "stdout",
     "output_type": "stream",
     "text": [
      "1006\n"
     ]
    }
   ],
   "source": [
    "# finding number if building where 0 people are present \n",
    "count_zeros = (df['Occupancy_Count'] == 0).sum()\n",
    "print(count_zeros) "
   ]
  },
  {
   "cell_type": "code",
   "execution_count": 10,
   "id": "2e408af6-3847-475c-9f29-49cd21edb37c",
   "metadata": {},
   "outputs": [
    {
     "name": "stdout",
     "output_type": "stream",
     "text": [
      "       Energy_Consumption_kWh\n",
      "count             1006.000000\n",
      "mean                59.091843\n",
      "std                 32.828831\n",
      "min                  5.181175\n",
      "25%                 35.180000\n",
      "50%                 50.955000\n",
      "75%                 78.072500\n",
      "max                354.128723\n"
     ]
    }
   ],
   "source": [
    "\"\"\" now we will try to understand whether these 0s are true values means no people are there in the building ,\n",
    "or these are jsut placeholders for nan values means they are jsut NAN values and dont represent correct 0 value.\"\"\"\n",
    "\n",
    "# Check if 0s correlate with other features (e.g., HVAC usage)\n",
    "zero_occupancy = df[df['Occupancy_Count'] == 0]\n",
    "print(zero_occupancy[['Building_Type', 'HVAC_Usage', 'Energy_Consumption_kWh']].describe())"
   ]
  },
  {
   "cell_type": "raw",
   "id": "fc7883ef-e87b-448e-bba6-d8130657aa63",
   "metadata": {},
   "source": [
    "All 1,006 rows with Occupancy_Count=0 show active energy usage (Energy_Consumption_kWh ranges from 5.18 to 354.13 kWh).\r\n",
    "This is physically impossible: Buildings consuming energy must have occupants (HVAC, lights, appliances don't run by themselves)."
   ]
  },
  {
   "cell_type": "raw",
   "id": "92d0bf44-4793-453c-a9e3-5e81d0b83767",
   "metadata": {},
   "source": [
    "We will mark these 0 values as NAN as these are not correct representation "
   ]
  },
  {
   "cell_type": "code",
   "execution_count": 11,
   "id": "2d7aa31e-6920-4148-a4e4-dba9afd63797",
   "metadata": {},
   "outputs": [],
   "source": [
    " Replace all illogical 0s with NaN\n",
    "df.loc[(df['Occupancy_Count'] == 0) & (df['Energy_Consumption_kWh'] > 0), 'Occupancy_Count'] = np.nan"
   ]
  },
  {
   "cell_type": "code",
   "execution_count": 12,
   "id": "d30a7245-2827-4095-a427-fdc721b4fd0b",
   "metadata": {},
   "outputs": [
    {
     "name": "stdout",
     "output_type": "stream",
     "text": [
      "Missing values after correction: 2006\n"
     ]
    }
   ],
   "source": [
    "print(f\"Missing values after correction: {df['Occupancy_Count'].isnull().sum()}\")"
   ]
  },
  {
   "cell_type": "code",
   "execution_count": 13,
   "id": "f2ddf45a-801b-46c9-9795-1ff7ed36d54e",
   "metadata": {},
   "outputs": [],
   "source": [
    "from src.utils.visualization import plot_histogram"
   ]
  },
  {
   "cell_type": "code",
   "execution_count": 16,
   "id": "950c15d7-df8a-408f-9764-d78f07ac3277",
   "metadata": {},
   "outputs": [
    {
     "data": {
      "image/png": "[encoded data removed]",
      "text/plain": [
       "<Figure size 1000x600 with 1 Axes>"
      ]
     },
     "metadata": {},
     "output_type": "display_data"
    }
   ],
   "source": [
    "plot_histogram(df,\"Occupancy_Count\");"
   ]
  },
  {
   "cell_type": "raw",
   "id": "ffcabdfe-878c-4e1d-8e3d-434f385bb072",
   "metadata": {},
   "source": [
    "The histogram has shifted as now there are no values with 0 Occupancy Count"
   ]
  },
  {
   "cell_type": "code",
   "execution_count": null,
   "id": "73e512c6-b1b9-4970-91d9-2c2d3838ca25",
   "metadata": {},
   "outputs": [],
   "source": []
  }
 ],
 "metadata": {
  "kernelspec": {
   "display_name": "Python 3 (ipykernel)",
   "language": "python",
   "name": "python3"
  },
  "language_info": {
   "codemirror_mode": {
    "name": "ipython",
    "version": 3
   },
   "file_extension": ".py",
   "mimetype": "text/x-python",
   "name": "python",
   "nbconvert_exporter": "python",
   "pygments_lexer": "ipython3",
   "version": "3.10.16"
  }
 },
 "nbformat": 4,
 "nbformat_minor": 5
}
